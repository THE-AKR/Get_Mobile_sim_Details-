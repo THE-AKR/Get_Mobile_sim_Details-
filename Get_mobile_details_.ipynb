{
  "nbformat": 4,
  "nbformat_minor": 0,
  "metadata": {
    "colab": {
      "name": "Get mobile details  .ipynb",
      "provenance": [],
      "collapsed_sections": [],
      "authorship_tag": "ABX9TyMIJ8Q1mhoxjpl/9Xh/Kxh6",
      "include_colab_link": true
    },
    "kernelspec": {
      "name": "python3",
      "display_name": "Python 3"
    },
    "language_info": {
      "name": "python"
    }
  },
  "cells": [
    {
      "cell_type": "markdown",
      "metadata": {
        "id": "view-in-github",
        "colab_type": "text"
      },
      "source": [
        "<a href=\"https://colab.research.google.com/github/THE-AKR/Get_Mobile_sim_Details-/blob/main/Get_mobile_details_.ipynb\" target=\"_parent\"><img src=\"https://colab.research.google.com/assets/colab-badge.svg\" alt=\"Open In Colab\"/></a>"
      ]
    },
    {
      "cell_type": "code",
      "execution_count": 1,
      "metadata": {
        "colab": {
          "base_uri": "https://localhost:8080/"
        },
        "id": "CnzNouoIt3Z_",
        "outputId": "b14d0d2e-81ab-4ec6-c6a3-a8575e5ff503"
      },
      "outputs": [
        {
          "output_type": "stream",
          "name": "stdout",
          "text": [
            "Collecting phonenumbers\n",
            "  Downloading phonenumbers-8.12.44-py2.py3-none-any.whl (2.6 MB)\n",
            "\u001b[K     |████████████████████████████████| 2.6 MB 5.0 MB/s \n",
            "\u001b[?25hInstalling collected packages: phonenumbers\n",
            "Successfully installed phonenumbers-8.12.44\n"
          ]
        }
      ],
      "source": [
        "pip install phonenumbers"
      ]
    },
    {
      "cell_type": "code",
      "source": [
        "import phonenumbers \n"
      ],
      "metadata": {
        "id": "7SrTTTnAuGJo"
      },
      "execution_count": 2,
      "outputs": []
    },
    {
      "cell_type": "code",
      "source": [
        "from phonenumbers import timezone, geocoder, carrier"
      ],
      "metadata": {
        "id": "jbXGiHhCumNS"
      },
      "execution_count": 3,
      "outputs": []
    },
    {
      "cell_type": "code",
      "source": [
        "number = input(\"Enter number with country code :\") #random input "
      ],
      "metadata": {
        "colab": {
          "base_uri": "https://localhost:8080/"
        },
        "id": "k2fBddxFuxM7",
        "outputId": "40278427-371a-40c1-fdb7-abd1aa05240e"
      },
      "execution_count": 5,
      "outputs": [
        {
          "name": "stdout",
          "output_type": "stream",
          "text": [
            "Enter number with country code :+919876543210\n"
          ]
        }
      ]
    },
    {
      "cell_type": "code",
      "source": [
        "x= phonenumbers.parse(number, None)"
      ],
      "metadata": {
        "id": "B__hG5IOwBTp"
      },
      "execution_count": 6,
      "outputs": []
    },
    {
      "cell_type": "code",
      "source": [
        "time = timezone.time_zones_for_number(x)"
      ],
      "metadata": {
        "id": "ZTUZzyhhzJOa"
      },
      "execution_count": 7,
      "outputs": []
    },
    {
      "cell_type": "code",
      "source": [
        "carr= carrier.name_for_number(x,\"en\")"
      ],
      "metadata": {
        "id": "vFxjJ8qa19gF"
      },
      "execution_count": 8,
      "outputs": []
    },
    {
      "cell_type": "code",
      "source": [
        "geo= geocoder.description_for_number(x,\"en\")"
      ],
      "metadata": {
        "id": "D8JGuukA2Rmj"
      },
      "execution_count": 9,
      "outputs": []
    },
    {
      "cell_type": "code",
      "source": [
        "print(x)\n",
        "print(time)\n",
        "print(carr)\n",
        "print(geo)"
      ],
      "metadata": {
        "colab": {
          "base_uri": "https://localhost:8080/"
        },
        "id": "SF2ZiJ9Q2ckS",
        "outputId": "31f63c49-78bf-48a6-cc16-e381c077b6a2"
      },
      "execution_count": 10,
      "outputs": [
        {
          "output_type": "stream",
          "name": "stdout",
          "text": [
            "Country Code: 91 National Number: 9876543210\n",
            "('Asia/Calcutta',)\n",
            "Airtel\n",
            "India\n"
          ]
        }
      ]
    }
  ]
}